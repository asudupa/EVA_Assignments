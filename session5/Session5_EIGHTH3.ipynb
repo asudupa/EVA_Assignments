{
  "nbformat": 4,
  "nbformat_minor": 0,
  "metadata": {
    "colab": {
      "name": "Session5_EIGHTH3.ipynb",
      "version": "0.3.2",
      "provenance": [],
      "collapsed_sections": []
    },
    "kernelspec": {
      "name": "python3",
      "display_name": "Python 3"
    },
    "accelerator": "GPU"
  },
  "cells": [
    {
      "cell_type": "code",
      "metadata": {
        "id": "0SJyVpgSxHt4",
        "colab_type": "code",
        "colab": {
          "base_uri": "https://localhost:8080/",
          "height": 35
        },
        "outputId": "dc4025e5-da5d-4264-e802-7a371e52515c"
      },
      "source": [
        "import numpy as np\n",
        "\n",
        "from keras.models import Sequential\n",
        "from keras.layers import Dense, Dropout, Activation, Flatten, Add, BatchNormalization\n",
        "from keras.layers import Convolution2D, MaxPooling2D\n",
        "from keras.utils import np_utils\n",
        "\n",
        "from keras.datasets import mnist"
      ],
      "execution_count": 2,
      "outputs": [
        {
          "output_type": "stream",
          "text": [
            "Using TensorFlow backend.\n"
          ],
          "name": "stderr"
        }
      ]
    },
    {
      "cell_type": "code",
      "metadata": {
        "id": "YlEUplvoxKAT",
        "colab_type": "code",
        "colab": {
          "base_uri": "https://localhost:8080/",
          "height": 54
        },
        "outputId": "cacd5e15-e51e-46e0-9406-8e9907bca6f8"
      },
      "source": [
        "(X_train, y_train), (X_test, y_test) = mnist.load_data()\n",
        "test=X_test.copy()"
      ],
      "execution_count": 3,
      "outputs": [
        {
          "output_type": "stream",
          "text": [
            "Downloading data from https://s3.amazonaws.com/img-datasets/mnist.npz\n",
            "11493376/11490434 [==============================] - 0s 0us/step\n"
          ],
          "name": "stdout"
        }
      ]
    },
    {
      "cell_type": "code",
      "metadata": {
        "id": "I6Y9Va-xxMXG",
        "colab_type": "code",
        "outputId": "ee981f27-254f-4b57-977f-7f84ef4657d4",
        "colab": {
          "base_uri": "https://localhost:8080/",
          "height": 306
        }
      },
      "source": [
        "print (X_train.shape)\n",
        "from matplotlib import pyplot as plt\n",
        "%matplotlib inline\n",
        "plt.imshow(X_train[1])"
      ],
      "execution_count": 4,
      "outputs": [
        {
          "output_type": "stream",
          "text": [
            "(60000, 28, 28)\n"
          ],
          "name": "stdout"
        },
        {
          "output_type": "execute_result",
          "data": {
            "text/plain": [
              "<matplotlib.image.AxesImage at 0x7f8bec03fef0>"
            ]
          },
          "metadata": {
            "tags": []
          },
          "execution_count": 4
        },
        {
          "output_type": "display_data",
          "data": {
            "image/png": "[encoded data removed]",
            "text/plain": [
              "<Figure size 432x288 with 1 Axes>"
            ]
          },
          "metadata": {
            "tags": []
          }
        }
      ]
    },
    {
      "cell_type": "code",
      "metadata": {
        "id": "lxDZxPhhxOgO",
        "colab_type": "code",
        "colab": {}
      },
      "source": [
        "X_train = X_train.reshape(X_train.shape[0], 28, 28,1)\n",
        "X_test = X_test.reshape(X_test.shape[0], 28, 28,1)"
      ],
      "execution_count": 0,
      "outputs": []
    },
    {
      "cell_type": "code",
      "metadata": {
        "id": "3HzMqbTnxQQW",
        "colab_type": "code",
        "colab": {}
      },
      "source": [
        "X_train = X_train.astype('float32')\n",
        "X_test = X_test.astype('float32')\n",
        "X_train /= 255\n",
        "X_test /= 255"
      ],
      "execution_count": 0,
      "outputs": []
    },
    {
      "cell_type": "code",
      "metadata": {
        "id": "7LdYiW6ixR9e",
        "colab_type": "code",
        "colab": {}
      },
      "source": [
        "#print(y_train[:10])\n",
        "Y_train = np_utils.to_categorical(y_train, 10)\n",
        "Y_test = np_utils.to_categorical(y_test, 10)"
      ],
      "execution_count": 0,
      "outputs": []
    },
    {
      "cell_type": "code",
      "metadata": {
        "id": "rFR0F9j0xVp2",
        "colab_type": "code",
        "outputId": "9fbf6b28-c524-4474-cfd4-865934335158",
        "colab": {
          "base_uri": "https://localhost:8080/",
          "height": 200
        }
      },
      "source": [
        "Y_train[:10]"
      ],
      "execution_count": 8,
      "outputs": [
        {
          "output_type": "execute_result",
          "data": {
            "text/plain": [
              "array([[0., 0., 0., 0., 0., 1., 0., 0., 0., 0.],\n",
              "       [1., 0., 0., 0., 0., 0., 0., 0., 0., 0.],\n",
              "       [0., 0., 0., 0., 1., 0., 0., 0., 0., 0.],\n",
              "       [0., 1., 0., 0., 0., 0., 0., 0., 0., 0.],\n",
              "       [0., 0., 0., 0., 0., 0., 0., 0., 0., 1.],\n",
              "       [0., 0., 1., 0., 0., 0., 0., 0., 0., 0.],\n",
              "       [0., 1., 0., 0., 0., 0., 0., 0., 0., 0.],\n",
              "       [0., 0., 0., 1., 0., 0., 0., 0., 0., 0.],\n",
              "       [0., 1., 0., 0., 0., 0., 0., 0., 0., 0.],\n",
              "       [0., 0., 0., 0., 1., 0., 0., 0., 0., 0.]], dtype=float32)"
            ]
          },
          "metadata": {
            "tags": []
          },
          "execution_count": 8
        }
      ]
    },
    {
      "cell_type": "code",
      "metadata": {
        "colab_type": "code",
        "id": "u8dJb-0fbllM",
        "colab": {
          "base_uri": "https://localhost:8080/",
          "height": 1411
        },
        "outputId": "2ab58473-a1f9-4501-d7cc-fbdb93d6c933"
      },
      "source": [
        "from keras.layers import Activation\n",
        "#from keras import regularizers\n",
        "from keras.regularizers import l2\n",
        "from keras.layers import Conv2D\n",
        "\n",
        "\n",
        "model = Sequential()\n",
        " \n",
        "\n",
        "model.add(Conv2D(16, (3, 3), input_shape=(28,28,1)))                            #26x26x16 removed activation\n",
        "model.add(BatchNormalization())  \n",
        "model.add(Activation('relu'))                                                   #added activation\n",
        "model.add(Dropout(0.1))\n",
        "#model.add(Convolution2D(16, 3, 3, activation='relu', input_shape=(28,28,1)))   #26\n",
        "#model.add(BatchNormalization())\n",
        "#model.add(Dropout(0.1))\n",
        "\n",
        "\n",
        "\n",
        "model.add(Conv2D(32, (3, 3),kernel_regularizer=l2(0.001)))                      #24x24x32 removed activation, added L2 regularizer\n",
        "model.add(BatchNormalization())\n",
        "model.add(Activation('relu'))                                                   #added activation\n",
        "model.add(Dropout(0.1))\n",
        "#model.add(Convolution2D(32, 3, 3, activation='relu')) #24\n",
        "#model.add(BatchNormalization())\n",
        "#model.add(Dropout(0.1))\n",
        "\n",
        "\n",
        "model.add(Conv2D(10, (1, 1), activation='relu'))                                #22X22X10\n",
        "\n",
        "model.add(MaxPooling2D(pool_size=(2, 2)))                                       #11X11X10\n",
        "\n",
        "\n",
        "model.add(Conv2D(16, (3, 3), kernel_regularizer=l2(0.001)))                     #9x9x16 removed activation, added L2 regularizer\n",
        "model.add(BatchNormalization())\n",
        "model.add(Activation('relu'))                                                   #added activation\n",
        "model.add(Dropout(0.1))\n",
        "#model.add(Convolution2D(16, 3, 3, activation='relu'))#9\n",
        "#model.add(BatchNormalization())\n",
        "#model.add(Dropout(0.1))\n",
        "\n",
        "\n",
        "model.add(Conv2D(16, (3, 3), kernel_regularizer=l2(0.001)))                     #7x7x16 removed activation, added L2 regularizer\n",
        "model.add(BatchNormalization())\n",
        "model.add(Activation('relu'))                                                   #added activation\n",
        "model.add(Dropout(0.1))\n",
        "#model.add(Convolution2D(16, 3, 3, activation='relu'))#7\n",
        "#model.add(BatchNormalization())\n",
        "#model.add(Dropout(0.1))\n",
        "\n",
        "\n",
        "model.add(Conv2D(16, (3, 3), kernel_regularizer=l2(0.001)))                     #5x5x16 removed activation, added L2 regularizer\n",
        "model.add(BatchNormalization())\n",
        "model.add(Activation('relu'))                                                   #added activation\n",
        "model.add(Dropout(0.1))\n",
        "#model.add(Convolution2D(16, 3, 3, activation='relu'))#5\n",
        "#model.add(BatchNormalization())\n",
        "#model.add(Dropout(0.1))\n",
        "\n",
        "\n",
        "model.add(Conv2D(16, (3, 3), kernel_regularizer=l2(0.001)))                     #3x3x16 removed activation, added L2 regularizer\n",
        "model.add(BatchNormalization())\n",
        "model.add(Activation('relu'))                                                   #added activation\n",
        "model.add(Dropout(0.1))\n",
        "#model.add(Convolution2D(16, 3, 3, activation='relu'))#3\n",
        "#model.add(BatchNormalization())\n",
        "#model.add(Dropout(0.1))\n",
        "\n",
        "\n",
        "\n",
        "model.add(Conv2D(10, (4, 4), kernel_regularizer=l2(0.001)))                     #4x4x10, added L2 regularizer\n",
        "model.add(BatchNormalization())\n",
        "model.add(Dropout(0.1))\n",
        "\n",
        "\n",
        "model.add(Flatten())\n",
        "model.add(Activation('softmax'))\n",
        "\n",
        "\n",
        "model.summary()\n",
        "\n",
        "\n",
        "#model.add(Conv2D(kernel_regularizer=l2(0.0001))) #Every layer?\n",
        "#model.add(Conv2D(32, (3,3), kernel_regularizer=l2(0.01), bias_regularizer=l2(0.01)))"
      ],
      "execution_count": 9,
      "outputs": [
        {
          "output_type": "stream",
          "text": [
            "WARNING:tensorflow:From /usr/local/lib/python3.6/dist-packages/tensorflow/python/framework/op_def_library.py:263: colocate_with (from tensorflow.python.framework.ops) is deprecated and will be removed in a future version.\n",
            "Instructions for updating:\n",
            "Colocations handled automatically by placer.\n",
            "WARNING:tensorflow:From /usr/local/lib/python3.6/dist-packages/keras/backend/tensorflow_backend.py:3445: calling dropout (from tensorflow.python.ops.nn_ops) with keep_prob is deprecated and will be removed in a future version.\n",
            "Instructions for updating:\n",
            "Please use `rate` instead of `keep_prob`. Rate should be set to `rate = 1 - keep_prob`.\n",
            "_________________________________________________________________\n",
            "Layer (type)                 Output Shape              Param #   \n",
            "=================================================================\n",
            "conv2d_1 (Conv2D)            (None, 26, 26, 16)        160       \n",
            "_________________________________________________________________\n",
            "batch_normalization_1 (Batch (None, 26, 26, 16)        64        \n",
            "_________________________________________________________________\n",
            "activation_1 (Activation)    (None, 26, 26, 16)        0         \n",
            "_________________________________________________________________\n",
            "dropout_1 (Dropout)          (None, 26, 26, 16)        0         \n",
            "_________________________________________________________________\n",
            "conv2d_2 (Conv2D)            (None, 24, 24, 32)        4640      \n",
            "_________________________________________________________________\n",
            "batch_normalization_2 (Batch (None, 24, 24, 32)        128       \n",
            "_________________________________________________________________\n",
            "activation_2 (Activation)    (None, 24, 24, 32)        0         \n",
            "_________________________________________________________________\n",
            "dropout_2 (Dropout)          (None, 24, 24, 32)        0         \n",
            "_________________________________________________________________\n",
            "conv2d_3 (Conv2D)            (None, 24, 24, 10)        330       \n",
            "_________________________________________________________________\n",
            "max_pooling2d_1 (MaxPooling2 (None, 12, 12, 10)        0         \n",
            "_________________________________________________________________\n",
            "conv2d_4 (Conv2D)            (None, 10, 10, 16)        1456      \n",
            "_________________________________________________________________\n",
            "batch_normalization_3 (Batch (None, 10, 10, 16)        64        \n",
            "_________________________________________________________________\n",
            "activation_3 (Activation)    (None, 10, 10, 16)        0         \n",
            "_________________________________________________________________\n",
            "dropout_3 (Dropout)          (None, 10, 10, 16)        0         \n",
            "_________________________________________________________________\n",
            "conv2d_5 (Conv2D)            (None, 8, 8, 16)          2320      \n",
            "_________________________________________________________________\n",
            "batch_normalization_4 (Batch (None, 8, 8, 16)          64        \n",
            "_________________________________________________________________\n",
            "activation_4 (Activation)    (None, 8, 8, 16)          0         \n",
            "_________________________________________________________________\n",
            "dropout_4 (Dropout)          (None, 8, 8, 16)          0         \n",
            "_________________________________________________________________\n",
            "conv2d_6 (Conv2D)            (None, 6, 6, 16)          2320      \n",
            "_________________________________________________________________\n",
            "batch_normalization_5 (Batch (None, 6, 6, 16)          64        \n",
            "_________________________________________________________________\n",
            "activation_5 (Activation)    (None, 6, 6, 16)          0         \n",
            "_________________________________________________________________\n",
            "dropout_5 (Dropout)          (None, 6, 6, 16)          0         \n",
            "_________________________________________________________________\n",
            "conv2d_7 (Conv2D)            (None, 4, 4, 16)          2320      \n",
            "_________________________________________________________________\n",
            "batch_normalization_6 (Batch (None, 4, 4, 16)          64        \n",
            "_________________________________________________________________\n",
            "activation_6 (Activation)    (None, 4, 4, 16)          0         \n",
            "_________________________________________________________________\n",
            "dropout_6 (Dropout)          (None, 4, 4, 16)          0         \n",
            "_________________________________________________________________\n",
            "conv2d_8 (Conv2D)            (None, 1, 1, 10)          2570      \n",
            "_________________________________________________________________\n",
            "batch_normalization_7 (Batch (None, 1, 1, 10)          40        \n",
            "_________________________________________________________________\n",
            "dropout_7 (Dropout)          (None, 1, 1, 10)          0         \n",
            "_________________________________________________________________\n",
            "flatten_1 (Flatten)          (None, 10)                0         \n",
            "_________________________________________________________________\n",
            "activation_7 (Activation)    (None, 10)                0         \n",
            "=================================================================\n",
            "Total params: 16,604\n",
            "Trainable params: 16,360\n",
            "Non-trainable params: 244\n",
            "_________________________________________________________________\n"
          ],
          "name": "stdout"
        }
      ]
    },
    {
      "cell_type": "markdown",
      "metadata": {
        "id": "SJaJEvaDSCgj",
        "colab_type": "text"
      },
      "source": [
        "In this model, activation is done after BN, i.e. Conv2D followed by Batch Normalization and activation by 'Relu', finally with Dropout. This is applied for all blocks.<br/>\n",
        "Second modification is adding L2 Kernel Regularizer. This applied to all Conv2D with a value of 0.01, except for first layer.<br/><br/>\n"
      ]
    },
    {
      "cell_type": "code",
      "metadata": {
        "id": "3KmCf-IWy8zm",
        "colab_type": "code",
        "colab": {}
      },
      "source": [
        "from keras.optimizers import Adam\n",
        "from keras.callbacks import LearningRateScheduler\n",
        "def scheduler(epoch, lr):\n",
        "  return round(0.003 * 1/(1 + 0.319 * epoch), 10)"
      ],
      "execution_count": 0,
      "outputs": []
    },
    {
      "cell_type": "code",
      "metadata": {
        "id": "O8gLbL4By91O",
        "colab_type": "code",
        "colab": {}
      },
      "source": [
        "model.compile(loss='categorical_crossentropy', optimizer=Adam(lr=0.003), metrics=['accuracy'])"
      ],
      "execution_count": 0,
      "outputs": []
    },
    {
      "cell_type": "code",
      "metadata": {
        "id": "HlFthw-OzH5V",
        "colab_type": "code",
        "colab": {}
      },
      "source": [
        "#import image data generator\n",
        "from keras.preprocessing.image import ImageDataGenerator\n",
        "\n",
        "#Image augmentation\n",
        "datagen = ImageDataGenerator(rotation_range=2,\n",
        "                             zoom_range = 0.10,\n",
        "                             width_shift_range=0.2,\n",
        "                             height_shift_range=0.2)\n",
        "\n",
        "datagen.fit(X_train)"
      ],
      "execution_count": 0,
      "outputs": []
    },
    {
      "cell_type": "markdown",
      "metadata": {
        "id": "Rgt_LeX8TOkP",
        "colab_type": "text"
      },
      "source": [
        "Added image agumentation. Used standard agumentation; rotation of image by 2degrees, zoom the image by 0.1, shift horizontally by 0.2 and vertical shift by 0.2.<br/>"
      ]
    },
    {
      "cell_type": "code",
      "metadata": {
        "id": "1beUvA2SNhua",
        "colab_type": "code",
        "colab": {}
      },
      "source": [
        "from keras.callbacks import ModelCheckpoint\n",
        "# checkpoint\n",
        "#filepath=\"weights-improvement-{epoch:02d}-{val_acc:.2f}.hdf5\"\n",
        "filepath=\"weights_best.hdf5\"\n",
        "checkpoint = ModelCheckpoint(filepath, monitor='val_acc', verbose=1, save_best_only=True, mode='max')\n",
        "callbacks_list = [checkpoint, LearningRateScheduler(scheduler, verbose=1)]"
      ],
      "execution_count": 0,
      "outputs": []
    },
    {
      "cell_type": "markdown",
      "metadata": {
        "id": "bDZfdH9lTlX6",
        "colab_type": "text"
      },
      "source": [
        "Implemented checkpoint to model to save best of validation accuracy. Will be overwriting on same file than create new file everytime. Call back oncludes learning rate scheduler and checkpoint. <br/>"
      ]
    },
    {
      "cell_type": "code",
      "metadata": {
        "id": "L2IicGJ4x3Be",
        "colab_type": "code",
        "outputId": "1275ee4a-bde3-4d81-9dd4-0b0e2d831ec3",
        "colab": {
          "base_uri": "https://localhost:8080/",
          "height": 4580
        }
      },
      "source": [
        "\n",
        "#model.fit(X_train, Y_train, batch_size=128, epochs=20, verbose=1, validation_data=(X_test, Y_test), callbacks=[LearningRateScheduler(scheduler, verbose=1)])\n",
        "#model.fit_generator(datagen.flow(X_train, Y_train, batch_size=128), steps_per_epoch=len(X_train)/16, nb_epoch=40, verbose=1, validation_data=(X_test, Y_test), callbacks=[LearningRateScheduler(scheduler, verbose=1)])\n",
        "\n",
        "\n",
        "model.fit_generator(datagen.flow(X_train, Y_train, batch_size=128), steps_per_epoch=len(X_train)/16, nb_epoch=40, verbose=1, validation_data=(X_test, Y_test), callbacks=callbacks_list)"
      ],
      "execution_count": 14,
      "outputs": [
        {
          "output_type": "stream",
          "text": [
            "WARNING:tensorflow:From /usr/local/lib/python3.6/dist-packages/tensorflow/python/ops/math_ops.py:3066: to_int32 (from tensorflow.python.ops.math_ops) is deprecated and will be removed in a future version.\n",
            "Instructions for updating:\n",
            "Use tf.cast instead.\n"
          ],
          "name": "stdout"
        },
        {
          "output_type": "stream",
          "text": [
            "/usr/local/lib/python3.6/dist-packages/ipykernel_launcher.py:3: UserWarning: The semantics of the Keras 2 argument `steps_per_epoch` is not the same as the Keras 1 argument `samples_per_epoch`. `steps_per_epoch` is the number of batches to draw from the generator at each epoch. Basically steps_per_epoch = samples_per_epoch/batch_size. Similarly `nb_val_samples`->`validation_steps` and `val_samples`->`steps` arguments have changed. Update your method calls accordingly.\n",
            "  This is separate from the ipykernel package so we can avoid doing imports until\n",
            "/usr/local/lib/python3.6/dist-packages/ipykernel_launcher.py:3: UserWarning: Update your `fit_generator` call to the Keras 2 API: `fit_generator(<keras_pre..., steps_per_epoch=3750.0, verbose=1, validation_data=(array([[[..., callbacks=[<keras.ca..., epochs=40)`\n",
            "  This is separate from the ipykernel package so we can avoid doing imports until\n"
          ],
          "name": "stderr"
        },
        {
          "output_type": "stream",
          "text": [
            "Epoch 1/40\n",
            "\n",
            "Epoch 00001: LearningRateScheduler setting learning rate to 0.003.\n",
            "3750/3750 [==============================] - 125s 33ms/step - loss: 0.4603 - acc: 0.8796 - val_loss: 0.2365 - val_acc: 0.9596\n",
            "\n",
            "Epoch 00001: val_acc improved from -inf to 0.95960, saving model to weights_best.hdf5\n",
            "Epoch 2/40\n",
            "\n",
            "Epoch 00002: LearningRateScheduler setting learning rate to 0.0022744503.\n",
            "3750/3750 [==============================] - 119s 32ms/step - loss: 0.2841 - acc: 0.9284 - val_loss: 0.1222 - val_acc: 0.9868\n",
            "\n",
            "Epoch 00002: val_acc improved from 0.95960 to 0.98680, saving model to weights_best.hdf5\n",
            "Epoch 3/40\n",
            "\n",
            "Epoch 00003: LearningRateScheduler setting learning rate to 0.0018315018.\n",
            "3750/3750 [==============================] - 120s 32ms/step - loss: 0.2559 - acc: 0.9335 - val_loss: 0.1194 - val_acc: 0.9847\n",
            "\n",
            "Epoch 00003: val_acc did not improve from 0.98680\n",
            "Epoch 4/40\n",
            "\n",
            "Epoch 00004: LearningRateScheduler setting learning rate to 0.0015329586.\n",
            "3750/3750 [==============================] - 119s 32ms/step - loss: 0.2362 - acc: 0.9373 - val_loss: 0.0978 - val_acc: 0.9891\n",
            "\n",
            "Epoch 00004: val_acc improved from 0.98680 to 0.98910, saving model to weights_best.hdf5\n",
            "Epoch 5/40\n",
            "\n",
            "Epoch 00005: LearningRateScheduler setting learning rate to 0.0013181019.\n",
            "3750/3750 [==============================] - 120s 32ms/step - loss: 0.2213 - acc: 0.9385 - val_loss: 0.0935 - val_acc: 0.9886\n",
            "\n",
            "Epoch 00005: val_acc did not improve from 0.98910\n",
            "Epoch 6/40\n",
            "\n",
            "Epoch 00006: LearningRateScheduler setting learning rate to 0.0011560694.\n",
            "3750/3750 [==============================] - 120s 32ms/step - loss: 0.2112 - acc: 0.9402 - val_loss: 0.0864 - val_acc: 0.9901\n",
            "\n",
            "Epoch 00006: val_acc improved from 0.98910 to 0.99010, saving model to weights_best.hdf5\n",
            "Epoch 7/40\n",
            "\n",
            "Epoch 00007: LearningRateScheduler setting learning rate to 0.0010295127.\n",
            "3750/3750 [==============================] - 120s 32ms/step - loss: 0.2026 - acc: 0.9413 - val_loss: 0.0919 - val_acc: 0.9877\n",
            "\n",
            "Epoch 00007: val_acc did not improve from 0.99010\n",
            "Epoch 8/40\n",
            "\n",
            "Epoch 00008: LearningRateScheduler setting learning rate to 0.0009279307.\n",
            "3750/3750 [==============================] - 119s 32ms/step - loss: 0.1962 - acc: 0.9431 - val_loss: 0.0788 - val_acc: 0.9918\n",
            "\n",
            "Epoch 00008: val_acc improved from 0.99010 to 0.99180, saving model to weights_best.hdf5\n",
            "Epoch 9/40\n",
            "\n",
            "Epoch 00009: LearningRateScheduler setting learning rate to 0.0008445946.\n",
            "3750/3750 [==============================] - 120s 32ms/step - loss: 0.1900 - acc: 0.9431 - val_loss: 0.0771 - val_acc: 0.9906\n",
            "\n",
            "Epoch 00009: val_acc did not improve from 0.99180\n",
            "Epoch 10/40\n",
            "\n",
            "Epoch 00010: LearningRateScheduler setting learning rate to 0.0007749935.\n",
            "3750/3750 [==============================] - 119s 32ms/step - loss: 0.1848 - acc: 0.9434 - val_loss: 0.0769 - val_acc: 0.9890\n",
            "\n",
            "Epoch 00010: val_acc did not improve from 0.99180\n",
            "Epoch 11/40\n",
            "\n",
            "Epoch 00011: LearningRateScheduler setting learning rate to 0.0007159905.\n",
            "3750/3750 [==============================] - 120s 32ms/step - loss: 0.1807 - acc: 0.9446 - val_loss: 0.0721 - val_acc: 0.9918\n",
            "\n",
            "Epoch 00011: val_acc did not improve from 0.99180\n",
            "Epoch 12/40\n",
            "\n",
            "Epoch 00012: LearningRateScheduler setting learning rate to 0.000665336.\n",
            "3750/3750 [==============================] - 119s 32ms/step - loss: 0.1762 - acc: 0.9453 - val_loss: 0.0722 - val_acc: 0.9905\n",
            "\n",
            "Epoch 00012: val_acc did not improve from 0.99180\n",
            "Epoch 13/40\n",
            "\n",
            "Epoch 00013: LearningRateScheduler setting learning rate to 0.0006213753.\n",
            "3750/3750 [==============================] - 119s 32ms/step - loss: 0.1728 - acc: 0.9460 - val_loss: 0.0726 - val_acc: 0.9907\n",
            "\n",
            "Epoch 00013: val_acc did not improve from 0.99180\n",
            "Epoch 14/40\n",
            "\n",
            "Epoch 00014: LearningRateScheduler setting learning rate to 0.0005828638.\n",
            "3750/3750 [==============================] - 119s 32ms/step - loss: 0.1680 - acc: 0.9466 - val_loss: 0.0619 - val_acc: 0.9927\n",
            "\n",
            "Epoch 00014: val_acc improved from 0.99180 to 0.99270, saving model to weights_best.hdf5\n",
            "Epoch 15/40\n",
            "\n",
            "Epoch 00015: LearningRateScheduler setting learning rate to 0.0005488474.\n",
            "3750/3750 [==============================] - 120s 32ms/step - loss: 0.1670 - acc: 0.9466 - val_loss: 0.0638 - val_acc: 0.9913\n",
            "\n",
            "Epoch 00015: val_acc did not improve from 0.99270\n",
            "Epoch 16/40\n",
            "\n",
            "Epoch 00016: LearningRateScheduler setting learning rate to 0.0005185825.\n",
            "3750/3750 [==============================] - 119s 32ms/step - loss: 0.1647 - acc: 0.9468 - val_loss: 0.0672 - val_acc: 0.9907\n",
            "\n",
            "Epoch 00016: val_acc did not improve from 0.99270\n",
            "Epoch 17/40\n",
            "\n",
            "Epoch 00017: LearningRateScheduler setting learning rate to 0.000491481.\n",
            "3750/3750 [==============================] - 119s 32ms/step - loss: 0.1625 - acc: 0.9467 - val_loss: 0.0621 - val_acc: 0.9930\n",
            "\n",
            "Epoch 00017: val_acc improved from 0.99270 to 0.99300, saving model to weights_best.hdf5\n",
            "Epoch 18/40\n",
            "\n",
            "Epoch 00018: LearningRateScheduler setting learning rate to 0.0004670715.\n",
            "3750/3750 [==============================] - 119s 32ms/step - loss: 0.1588 - acc: 0.9478 - val_loss: 0.0597 - val_acc: 0.9921\n",
            "\n",
            "Epoch 00018: val_acc did not improve from 0.99300\n",
            "Epoch 19/40\n",
            "\n",
            "Epoch 00019: LearningRateScheduler setting learning rate to 0.0004449718.\n",
            "3750/3750 [==============================] - 120s 32ms/step - loss: 0.1563 - acc: 0.9484 - val_loss: 0.0586 - val_acc: 0.9918\n",
            "\n",
            "Epoch 00019: val_acc did not improve from 0.99300\n",
            "Epoch 20/40\n",
            "\n",
            "Epoch 00020: LearningRateScheduler setting learning rate to 0.000424869.\n",
            "3750/3750 [==============================] - 119s 32ms/step - loss: 0.1550 - acc: 0.9486 - val_loss: 0.0563 - val_acc: 0.9929\n",
            "\n",
            "Epoch 00020: val_acc did not improve from 0.99300\n",
            "Epoch 21/40\n",
            "\n",
            "Epoch 00021: LearningRateScheduler setting learning rate to 0.0004065041.\n",
            "3750/3750 [==============================] - 119s 32ms/step - loss: 0.1539 - acc: 0.9480 - val_loss: 0.0627 - val_acc: 0.9908\n",
            "\n",
            "Epoch 00021: val_acc did not improve from 0.99300\n",
            "Epoch 22/40\n",
            "\n",
            "Epoch 00022: LearningRateScheduler setting learning rate to 0.000389661.\n",
            "3750/3750 [==============================] - 120s 32ms/step - loss: 0.1509 - acc: 0.9485 - val_loss: 0.0553 - val_acc: 0.9923\n",
            "\n",
            "Epoch 00022: val_acc did not improve from 0.99300\n",
            "Epoch 23/40\n",
            "\n",
            "Epoch 00023: LearningRateScheduler setting learning rate to 0.0003741581.\n",
            "3750/3750 [==============================] - 119s 32ms/step - loss: 0.1505 - acc: 0.9483 - val_loss: 0.0537 - val_acc: 0.9935\n",
            "\n",
            "Epoch 00023: val_acc improved from 0.99300 to 0.99350, saving model to weights_best.hdf5\n",
            "Epoch 24/40\n",
            "\n",
            "Epoch 00024: LearningRateScheduler setting learning rate to 0.0003598417.\n",
            "3750/3750 [==============================] - 120s 32ms/step - loss: 0.1508 - acc: 0.9486 - val_loss: 0.0582 - val_acc: 0.9909\n",
            "\n",
            "Epoch 00024: val_acc did not improve from 0.99350\n",
            "Epoch 25/40\n",
            "\n",
            "Epoch 00025: LearningRateScheduler setting learning rate to 0.0003465804.\n",
            "3750/3750 [==============================] - 119s 32ms/step - loss: 0.1482 - acc: 0.9489 - val_loss: 0.0548 - val_acc: 0.9924\n",
            "\n",
            "Epoch 00025: val_acc did not improve from 0.99350\n",
            "Epoch 26/40\n",
            "\n",
            "Epoch 00026: LearningRateScheduler setting learning rate to 0.0003342618.\n",
            "3750/3750 [==============================] - 119s 32ms/step - loss: 0.1455 - acc: 0.9492 - val_loss: 0.0553 - val_acc: 0.9928\n",
            "\n",
            "Epoch 00026: val_acc did not improve from 0.99350\n",
            "Epoch 27/40\n",
            "\n",
            "Epoch 00027: LearningRateScheduler setting learning rate to 0.0003227889.\n",
            "3750/3750 [==============================] - 120s 32ms/step - loss: 0.1452 - acc: 0.9499 - val_loss: 0.0499 - val_acc: 0.9927\n",
            "\n",
            "Epoch 00027: val_acc did not improve from 0.99350\n",
            "Epoch 28/40\n",
            "\n",
            "Epoch 00028: LearningRateScheduler setting learning rate to 0.0003120774.\n",
            "3750/3750 [==============================] - 119s 32ms/step - loss: 0.1454 - acc: 0.9488 - val_loss: 0.0502 - val_acc: 0.9936\n",
            "\n",
            "Epoch 00028: val_acc improved from 0.99350 to 0.99360, saving model to weights_best.hdf5\n",
            "Epoch 29/40\n",
            "\n",
            "Epoch 00029: LearningRateScheduler setting learning rate to 0.000302054.\n",
            "3750/3750 [==============================] - 119s 32ms/step - loss: 0.1433 - acc: 0.9492 - val_loss: 0.0554 - val_acc: 0.9917\n",
            "\n",
            "Epoch 00029: val_acc did not improve from 0.99360\n",
            "Epoch 30/40\n",
            "\n",
            "Epoch 00030: LearningRateScheduler setting learning rate to 0.0002926544.\n",
            "3750/3750 [==============================] - 120s 32ms/step - loss: 0.1414 - acc: 0.9502 - val_loss: 0.0487 - val_acc: 0.9934\n",
            "\n",
            "Epoch 00030: val_acc did not improve from 0.99360\n",
            "Epoch 31/40\n",
            "\n",
            "Epoch 00031: LearningRateScheduler setting learning rate to 0.0002838221.\n",
            "3750/3750 [==============================] - 119s 32ms/step - loss: 0.1407 - acc: 0.9505 - val_loss: 0.0486 - val_acc: 0.9929\n",
            "\n",
            "Epoch 00031: val_acc did not improve from 0.99360\n",
            "Epoch 32/40\n",
            "\n",
            "Epoch 00032: LearningRateScheduler setting learning rate to 0.0002755074.\n",
            "3750/3750 [==============================] - 119s 32ms/step - loss: 0.1399 - acc: 0.9502 - val_loss: 0.0515 - val_acc: 0.9924\n",
            "\n",
            "Epoch 00032: val_acc did not improve from 0.99360\n",
            "Epoch 33/40\n",
            "\n",
            "Epoch 00033: LearningRateScheduler setting learning rate to 0.000267666.\n",
            "3750/3750 [==============================] - 119s 32ms/step - loss: 0.1393 - acc: 0.9502 - val_loss: 0.0549 - val_acc: 0.9919\n",
            "\n",
            "Epoch 00033: val_acc did not improve from 0.99360\n",
            "Epoch 34/40\n",
            "\n",
            "Epoch 00034: LearningRateScheduler setting learning rate to 0.0002602585.\n",
            "3750/3750 [==============================] - 119s 32ms/step - loss: 0.1382 - acc: 0.9503 - val_loss: 0.0471 - val_acc: 0.9939\n",
            "\n",
            "Epoch 00034: val_acc improved from 0.99360 to 0.99390, saving model to weights_best.hdf5\n",
            "Epoch 35/40\n",
            "\n",
            "Epoch 00035: LearningRateScheduler setting learning rate to 0.00025325.\n",
            "3750/3750 [==============================] - 119s 32ms/step - loss: 0.1367 - acc: 0.9508 - val_loss: 0.0566 - val_acc: 0.9912\n",
            "\n",
            "Epoch 00035: val_acc did not improve from 0.99390\n",
            "Epoch 36/40\n",
            "\n",
            "Epoch 00036: LearningRateScheduler setting learning rate to 0.0002466091.\n",
            "3750/3750 [==============================] - 119s 32ms/step - loss: 0.1370 - acc: 0.9504 - val_loss: 0.0458 - val_acc: 0.9941\n",
            "\n",
            "Epoch 00036: val_acc improved from 0.99390 to 0.99410, saving model to weights_best.hdf5\n",
            "Epoch 37/40\n",
            "\n",
            "Epoch 00037: LearningRateScheduler setting learning rate to 0.0002403076.\n",
            "3750/3750 [==============================] - 120s 32ms/step - loss: 0.1362 - acc: 0.9508 - val_loss: 0.0489 - val_acc: 0.9928\n",
            "\n",
            "Epoch 00037: val_acc did not improve from 0.99410\n",
            "Epoch 38/40\n",
            "\n",
            "Epoch 00038: LearningRateScheduler setting learning rate to 0.0002343201.\n",
            "3750/3750 [==============================] - 119s 32ms/step - loss: 0.1353 - acc: 0.9509 - val_loss: 0.0451 - val_acc: 0.9933\n",
            "\n",
            "Epoch 00038: val_acc did not improve from 0.99410\n",
            "Epoch 39/40\n",
            "\n",
            "Epoch 00039: LearningRateScheduler setting learning rate to 0.0002286237.\n",
            "3750/3750 [==============================] - 120s 32ms/step - loss: 0.1347 - acc: 0.9506 - val_loss: 0.0513 - val_acc: 0.9917\n",
            "\n",
            "Epoch 00039: val_acc did not improve from 0.99410\n",
            "Epoch 40/40\n",
            "\n",
            "Epoch 00040: LearningRateScheduler setting learning rate to 0.0002231977.\n",
            "3750/3750 [==============================] - 120s 32ms/step - loss: 0.1354 - acc: 0.9504 - val_loss: 0.0474 - val_acc: 0.9924\n",
            "\n",
            "Epoch 00040: val_acc did not improve from 0.99410\n"
          ],
          "name": "stdout"
        },
        {
          "output_type": "execute_result",
          "data": {
            "text/plain": [
              "<keras.callbacks.History at 0x7f8bebfce240>"
            ]
          },
          "metadata": {
            "tags": []
          },
          "execution_count": 14
        }
      ]
    },
    {
      "cell_type": "markdown",
      "metadata": {
        "id": "IG5Tje9dUBlR",
        "colab_type": "text"
      },
      "source": [
        "Executing the model with Batch size of 128, Epoch of 40, incorporating, Image Augumentation, Callback with Check point and LR scheduler.<br/>\n",
        "Val_accuracy peaked at 99.41%.\n",
        "\n",
        "---\n",
        "\n"
      ]
    },
    {
      "cell_type": "code",
      "metadata": {
        "id": "WLxlW9ufyQiO",
        "colab_type": "code",
        "outputId": "6397bb83-f5d0-4542-a401-a1fa33999042",
        "colab": {
          "base_uri": "https://localhost:8080/",
          "height": 35
        }
      },
      "source": [
        "\n",
        "score = model.evaluate(X_test, Y_test, verbose=0)\n",
        "print(score)"
      ],
      "execution_count": 15,
      "outputs": [
        {
          "output_type": "stream",
          "text": [
            "[0.04737896465063095, 0.9924]\n"
          ],
          "name": "stdout"
        }
      ]
    },
    {
      "cell_type": "code",
      "metadata": {
        "id": "m2qDl21ozBnW",
        "colab_type": "code",
        "outputId": "eecb45e3-90a9-4e71-d475-216761c6fc8a",
        "colab": {
          "base_uri": "https://localhost:8080/",
          "height": 35
        }
      },
      "source": [
        "#Predict classes using test data\n",
        "#predicted = model.predict(X_test)   #predicting the values\n",
        "predicted = model.predict_classes(X_test)  #predicting the classes\n",
        "\n",
        "print(predicted)"
      ],
      "execution_count": 16,
      "outputs": [
        {
          "output_type": "stream",
          "text": [
            "[7 2 1 ... 4 5 6]\n"
          ],
          "name": "stdout"
        }
      ]
    },
    {
      "cell_type": "markdown",
      "metadata": {
        "id": "eVD2vKQiUmFd",
        "colab_type": "text"
      },
      "source": [
        "Predicting the classes of X_test."
      ]
    },
    {
      "cell_type": "code",
      "metadata": {
        "id": "GLPxPVzaYJ6F",
        "colab_type": "code",
        "outputId": "9a20db96-3d20-44e2-8795-60f99707fc75",
        "colab": {
          "base_uri": "https://localhost:8080/",
          "height": 72
        }
      },
      "source": [
        "print(y_test)\n",
        "\n",
        "#predicting classes using test data, get correctt and incorrect predictions\n",
        "\n",
        "correct_indices = np.nonzero(predicted == y_test)[0]\n",
        "incorrect_indices = np.nonzero(predicted != y_test)[0]\n",
        "\n",
        "print(len(correct_indices))\n",
        "print(len(incorrect_indices))"
      ],
      "execution_count": 17,
      "outputs": [
        {
          "output_type": "stream",
          "text": [
            "[7 2 1 ... 4 5 6]\n",
            "9924\n",
            "76\n"
          ],
          "name": "stdout"
        }
      ]
    },
    {
      "cell_type": "markdown",
      "metadata": {
        "id": "megdpyWvUuJF",
        "colab_type": "text"
      },
      "source": [
        "From the prediction Test/validation data, extracting indices for correct prediction and incorrect prediction."
      ]
    },
    {
      "cell_type": "code",
      "metadata": {
        "id": "hkDVTJHAlWb8",
        "colab_type": "code",
        "outputId": "bdc99836-cdf4-45d8-82b7-9db28ba22bf6",
        "colab": {
          "base_uri": "https://localhost:8080/",
          "height": 323
        }
      },
      "source": [
        "#plotting graph of correctly predicted test data\n",
        "#test=X_test.copy()\n",
        "\n",
        "plt.figure()\n",
        "for i, correct in enumerate(correct_indices[:9]):\n",
        "    plt.subplot(3,3,i+1)\n",
        "    plt.imshow(test[correct].reshape(28,28), cmap='gray', interpolation='none')\n",
        "    plt.title(\"Predicted {}, Class {}\".format(predicted[correct], y_test[correct]))\n",
        "    \n",
        "    plt.subplots_adjust(left=.125, bottom=.1, right=1, top=1, wspace=0.2, hspace=0.75)\n",
        "    \n",
        "plt.show()\n"
      ],
      "execution_count": 18,
      "outputs": [
        {
          "output_type": "display_data",
          "data": {
            "image/png": "[encoded data removed]",
            "text/plain": [
              "<Figure size 432x288 with 9 Axes>"
            ]
          },
          "metadata": {
            "tags": []
          }
        }
      ]
    },
    {
      "cell_type": "markdown",
      "metadata": {
        "id": "2mK6ket9VH52",
        "colab_type": "text"
      },
      "source": [
        "Plotting the images of correct prediction; predicted class and actual class."
      ]
    },
    {
      "cell_type": "code",
      "metadata": {
        "id": "gPOtaak5lbuj",
        "colab_type": "code",
        "outputId": "7dd57bf8-f2a3-433a-883f-4423bf77f2ad",
        "colab": {
          "base_uri": "https://localhost:8080/",
          "height": 1043
        }
      },
      "source": [
        "#plotting graph of incorrectly predicted test data\n",
        "plt.figure()\n",
        "for i, incorrect in enumerate(incorrect_indices[:25]):\n",
        "\n",
        "    plt.subplot(9,3,i+1)\n",
        "    plt.imshow(test[incorrect].reshape(28,28), cmap='gray', interpolation='none')\n",
        "    plt.title(\"Predicted {}, Class {}\".format(predicted[incorrect], y_test[incorrect]))\n",
        "    \n",
        "    plt.subplots_adjust(left=.125, bottom=.1, right=1, top=3.5, wspace=0.2, hspace=0.75)\n",
        "    #plt.title(\"Class {}\".format(y_test[incorrect]))\n",
        "plt.show()"
      ],
      "execution_count": 19,
      "outputs": [
        {
          "output_type": "display_data",
          "data": {
            "image/png": "[encoded data removed]",
            "text/plain": [
              "<Figure size 432x288 with 25 Axes>"
            ]
          },
          "metadata": {
            "tags": []
          }
        }
      ]
    },
    {
      "cell_type": "markdown",
      "metadata": {
        "id": "QBXS5rJ9VTsk",
        "colab_type": "text"
      },
      "source": [
        "Plotting the images of incorrect prediction; predicted class and actual class."
      ]
    },
    {
      "cell_type": "code",
      "metadata": {
        "id": "A9Lp_f2El29h",
        "colab_type": "code",
        "outputId": "dd2eb22d-2f38-4351-c8d9-2987a7accdaf",
        "colab": {
          "base_uri": "https://localhost:8080/",
          "height": 35
        }
      },
      "source": [
        "#print(predicted[correct])\n",
        "\n",
        "#print(predicted[incorrect], y_test[incorrect])\n",
        "\n",
        "#print(predicted[:1])\n",
        "\n",
        "print((predicted)[2])"
      ],
      "execution_count": 0,
      "outputs": [
        {
          "output_type": "stream",
          "text": [
            "1\n"
          ],
          "name": "stdout"
        }
      ]
    }
  ]
}