{
  "nbformat": 4,
  "nbformat_minor": 0,
  "metadata": {
    "colab": {
      "name": "Session 3_1st DNN2.ipynb",
      "version": "0.3.2",
      "provenance": [],
      "collapsed_sections": []
    },
    "kernelspec": {
      "name": "python3",
      "display_name": "Python 3"
    },
    "accelerator": "GPU"
  },
  "cells": [
    {
      "cell_type": "markdown",
      "metadata": {
        "id": "aNyZv-Ec52ot",
        "colab_type": "text"
      },
      "source": [
        "# **Import Libraries and modules**"
      ]
    },
    {
      "cell_type": "markdown",
      "metadata": {
        "id": "r2EGxXT7ocNY",
        "colab_type": "text"
      },
      "source": [
        "Install Keras Library, just to ensure latest version of Keras is installed.\n",
        "Post installation, import the library"
      ]
    },
    {
      "cell_type": "code",
      "metadata": {
        "id": "3m3w1Cw49Zkt",
        "colab_type": "code",
        "colab": {}
      },
      "source": [
        "# https://keras.io/\n",
        "!pip install -q keras\n",
        "import keras"
      ],
      "execution_count": 0,
      "outputs": []
    },
    {
      "cell_type": "code",
      "metadata": {
        "id": "Eso6UHE080D4",
        "colab_type": "code",
        "colab": {}
      },
      "source": [
        "import numpy as np\n",
        "\n",
        "from keras.models import Sequential\n",
        "from keras.layers import Dense, Dropout, Activation, Flatten, Add\n",
        "from keras.layers import Convolution2D, MaxPooling2D\n",
        "from keras.utils import np_utils\n",
        "\n",
        "from keras.datasets import mnist"
      ],
      "execution_count": 0,
      "outputs": []
    },
    {
      "cell_type": "markdown",
      "metadata": {
        "id": "87vipUhlonMS",
        "colab_type": "text"
      },
      "source": [
        "Import all required libraries, so that functions from the libraries are available."
      ]
    },
    {
      "cell_type": "markdown",
      "metadata": {
        "id": "zByEi95J86RD",
        "colab_type": "text"
      },
      "source": [
        "### Load pre-shuffled MNIST data into train and test sets"
      ]
    },
    {
      "cell_type": "code",
      "metadata": {
        "id": "7eRM0QWN83PV",
        "colab_type": "code",
        "colab": {}
      },
      "source": [
        "(X_train, y_train), (X_test, y_test) = mnist.load_data()"
      ],
      "execution_count": 0,
      "outputs": []
    },
    {
      "cell_type": "markdown",
      "metadata": {
        "id": "MmXBbEKooyiI",
        "colab_type": "text"
      },
      "source": [
        "Download/Load MNIST data with mnist.load_data(), and assign Training and Test data to X_train, X_test. And also assign Train andTest labels to y_train and y_train."
      ]
    },
    {
      "cell_type": "code",
      "metadata": {
        "id": "4a4Be72j8-ZC",
        "colab_type": "code",
        "outputId": "68657d75-26c3-4e0c-b311-1cda3422bdc8",
        "colab": {
          "base_uri": "https://localhost:8080/",
          "height": 305
        }
      },
      "source": [
        "print (X_train.shape)\n",
        "from matplotlib import pyplot as plt\n",
        "%matplotlib inline\n",
        "plt.imshow(X_train[0])"
      ],
      "execution_count": 49,
      "outputs": [
        {
          "output_type": "stream",
          "text": [
            "(60000, 28, 28)\n"
          ],
          "name": "stdout"
        },
        {
          "output_type": "execute_result",
          "data": {
            "text/plain": [
              "<matplotlib.image.AxesImage at 0x7f9082bab710>"
            ]
          },
          "metadata": {
            "tags": []
          },
          "execution_count": 49
        },
        {
          "output_type": "display_data",
          "data": {
            "image/png": "[encoded data removed]",
            "text/plain": [
              "<Figure size 432x288 with 1 Axes>"
            ]
          },
          "metadata": {
            "tags": []
          }
        }
      ]
    },
    {
      "cell_type": "markdown",
      "metadata": {
        "id": "uqhk09ObpYx-",
        "colab_type": "text"
      },
      "source": [
        "Shape of X_train is printed to get insight on how many images and of what resolution. There are 60,000 images of 28x28 size. With matplot, first image is plotted."
      ]
    },
    {
      "cell_type": "code",
      "metadata": {
        "id": "dkmprriw9AnZ",
        "colab_type": "code",
        "colab": {}
      },
      "source": [
        "X_train = X_train.reshape(X_train.shape[0], 28, 28,1)\n",
        "X_test = X_test.reshape(X_test.shape[0], 28, 28,1)"
      ],
      "execution_count": 0,
      "outputs": []
    },
    {
      "cell_type": "markdown",
      "metadata": {
        "id": "2AG319SKpnbV",
        "colab_type": "text"
      },
      "source": [
        "Depth of the image should be explictly mentioned for keras, being grayscale image, of 28x28, 28, 28, 1 is mentioned and also 4th dimension as samples count (''[0]''), i.e. 60000 is mentioned. Line X_train_reshape defined that; adds a dimension for sample count, x, y size and depth as 1. Same is repeated for test data."
      ]
    },
    {
      "cell_type": "code",
      "metadata": {
        "id": "X2m4YS4E9CRh",
        "colab_type": "code",
        "colab": {}
      },
      "source": [
        "X_train = X_train.astype('float32')\n",
        "X_test = X_test.astype('float32')\n",
        "X_train /= 255\n",
        "X_test /= 255"
      ],
      "execution_count": 0,
      "outputs": []
    },
    {
      "cell_type": "markdown",
      "metadata": {
        "id": "yjvRe0dxqGbY",
        "colab_type": "text"
      },
      "source": [
        "Data type is converted to float to accomdate decimals post normalization. Data is normalized by dividing by 255."
      ]
    },
    {
      "cell_type": "code",
      "metadata": {
        "id": "0Mn0vAYD9DvB",
        "colab_type": "code",
        "outputId": "38cdba8b-d2ca-461e-e7e4-4136dde711c8",
        "colab": {
          "base_uri": "https://localhost:8080/",
          "height": 35
        }
      },
      "source": [
        "y_train[:10]"
      ],
      "execution_count": 52,
      "outputs": [
        {
          "output_type": "execute_result",
          "data": {
            "text/plain": [
              "array([5, 0, 4, 1, 9, 2, 1, 3, 1, 4], dtype=uint8)"
            ]
          },
          "metadata": {
            "tags": []
          },
          "execution_count": 52
        }
      ]
    },
    {
      "cell_type": "markdown",
      "metadata": {
        "id": "KlSqUo26qFo4",
        "colab_type": "text"
      },
      "source": [
        "Display last 10 rows of Labels from training data"
      ]
    },
    {
      "cell_type": "code",
      "metadata": {
        "id": "ZG8JiXR39FHC",
        "colab_type": "code",
        "colab": {}
      },
      "source": [
        "# Convert 1-dimensional class arrays to 10-dimensional class matrices\n",
        "Y_train = np_utils.to_categorical(y_train, 10)\n",
        "Y_test = np_utils.to_categorical(y_test, 10)"
      ],
      "execution_count": 0,
      "outputs": []
    },
    {
      "cell_type": "markdown",
      "metadata": {
        "id": "ZXa9Lb4IqZo5",
        "colab_type": "text"
      },
      "source": [
        "Here labels of training and test data are converted from integer 0-9 to categorical format 0-9. This is ensure that the labels are of categorical type than integer. Labels of both train and test are converted."
      ]
    },
    {
      "cell_type": "code",
      "metadata": {
        "id": "fYlFRvKS9HMB",
        "colab_type": "code",
        "outputId": "d9a80b8f-0f4c-4c42-b4a8-e1b579b80c13",
        "colab": {
          "base_uri": "https://localhost:8080/",
          "height": 195
        }
      },
      "source": [
        "Y_train[:10]\n"
      ],
      "execution_count": 54,
      "outputs": [
        {
          "output_type": "execute_result",
          "data": {
            "text/plain": [
              "array([[0., 0., 0., 0., 0., 1., 0., 0., 0., 0.],\n",
              "       [1., 0., 0., 0., 0., 0., 0., 0., 0., 0.],\n",
              "       [0., 0., 0., 0., 1., 0., 0., 0., 0., 0.],\n",
              "       [0., 1., 0., 0., 0., 0., 0., 0., 0., 0.],\n",
              "       [0., 0., 0., 0., 0., 0., 0., 0., 0., 1.],\n",
              "       [0., 0., 1., 0., 0., 0., 0., 0., 0., 0.],\n",
              "       [0., 1., 0., 0., 0., 0., 0., 0., 0., 0.],\n",
              "       [0., 0., 0., 1., 0., 0., 0., 0., 0., 0.],\n",
              "       [0., 1., 0., 0., 0., 0., 0., 0., 0., 0.],\n",
              "       [0., 0., 0., 0., 1., 0., 0., 0., 0., 0.]], dtype=float32)"
            ]
          },
          "metadata": {
            "tags": []
          },
          "execution_count": 54
        }
      ]
    },
    {
      "cell_type": "markdown",
      "metadata": {
        "id": "KF-l1Qb_qj1Y",
        "colab_type": "text"
      },
      "source": [
        "Post conversion, labels on last 10 rows are printed. Now it displays as categorical data."
      ]
    },
    {
      "cell_type": "code",
      "metadata": {
        "id": "osKqT73Q9JJB",
        "colab_type": "code",
        "colab": {}
      },
      "source": [
        "from keras.layers import Activation\n",
        "from keras.layers.normalization import BatchNormalization\n",
        "\n",
        "model = Sequential()\n",
        "\n",
        " \n",
        "model.add(Convolution2D(32, 3, 3, activation='relu', input_shape=(28,28,1)))   #26x26x32\n",
        "model.add(BatchNormalization())                                                #Batch normaliztion\n",
        "model.add(Convolution2D(16, 3,3, activation='relu'))                           #24x24x32\n",
        "model.add(BatchNormalization())                                                #Batch normaliztion\n",
        "model.add(Convolution2D(16, 3,3, activation='relu'))                           #22x22x16\n",
        "model.add(Dropout(0.25))                                                        #Dropout\n",
        "\n",
        "\n",
        "model.add(Convolution2D(16, 3,3, activation='relu'))                           #20x20x16\n",
        "model.add(BatchNormalization())                                                #Batch normaliztion\n",
        "model.add(Convolution2D(16, 3,3, activation='relu'))                           #18x18x16\n",
        "model.add(BatchNormalization())                                                #Batch normaliztion\n",
        "model.add(Dropout(0.25))                                                        #Dropout\n",
        "\n",
        "model.add(MaxPooling2D(pool_size=(2, 2)))                                      #9x9x16  - Maxpooling 2x2\n",
        "\n",
        "model.add(Convolution2D(10, 3,3, activation='relu'))                           #7x7x10\n",
        "model.add(Convolution2D(10, 7))                                                #7x7x10 - 1x1x10\n",
        "model.add(BatchNormalization())                                                #Batch normaliztion\n",
        "model.add(Dropout(0.25))                                                        #Dropout\n",
        "\n",
        "model.add(Flatten())                                                           #Flaten into 10x1\n",
        "model.add(Activation('softmax'))                                               #Softmax\n",
        "\n",
        "\n",
        "      "
      ],
      "execution_count": 0,
      "outputs": []
    },
    {
      "cell_type": "markdown",
      "metadata": {
        "id": "Nqd6tVEIqsdh",
        "colab_type": "text"
      },
      "source": [
        "Sequential model is instantiated, as \"model\".   \n",
        " Model consists of multiple Conv2D+Batch Normalisation+Dropout layers. \n",
        " \n",
        "First group of layers are of 3x3x32 Conv2D for a input of 28x28x1. This is followed with Batch Normalisation + 3x3x16 Conv2D + Batch Normalization layer + 3x3x16 Conv2D + Dropout, outputing 22x22x16 image.  \n",
        "\n",
        "Second group of layers consists of 3x3x16 Conv2D + Batch Normalization + 3x3x16 Conv2D + Batch Normalization + Dropout  \n",
        "\n",
        "Third group is of 2x2x16 Maxpool + 3x3x10 Conv2D + 1x1x10 Conv2D + Batch Normalization + Droupout\n",
        "\n",
        "A flatten and Softmax activation concludes the model. Except go for softmax activation remaining activation with 3x3 Conv2D are with relu."
      ]
    },
    {
      "cell_type": "code",
      "metadata": {
        "id": "TzdAYg1k9K7Z",
        "colab_type": "code",
        "outputId": "531beec0-032a-4574-961d-c2e768603963",
        "colab": {
          "base_uri": "https://localhost:8080/",
          "height": 781
        }
      },
      "source": [
        "model.summary()"
      ],
      "execution_count": 55,
      "outputs": [
        {
          "output_type": "stream",
          "text": [
            "_________________________________________________________________\n",
            "Layer (type)                 Output Shape              Param #   \n",
            "=================================================================\n",
            "conv2d_50 (Conv2D)           (None, 26, 26, 32)        320       \n",
            "_________________________________________________________________\n",
            "batch_normalization_34 (Batc (None, 26, 26, 32)        128       \n",
            "_________________________________________________________________\n",
            "conv2d_51 (Conv2D)           (None, 24, 24, 16)        4624      \n",
            "_________________________________________________________________\n",
            "batch_normalization_35 (Batc (None, 24, 24, 16)        64        \n",
            "_________________________________________________________________\n",
            "conv2d_52 (Conv2D)           (None, 22, 22, 16)        2320      \n",
            "_________________________________________________________________\n",
            "dropout_20 (Dropout)         (None, 22, 22, 16)        0         \n",
            "_________________________________________________________________\n",
            "conv2d_53 (Conv2D)           (None, 20, 20, 16)        2320      \n",
            "_________________________________________________________________\n",
            "batch_normalization_36 (Batc (None, 20, 20, 16)        64        \n",
            "_________________________________________________________________\n",
            "conv2d_54 (Conv2D)           (None, 18, 18, 16)        2320      \n",
            "_________________________________________________________________\n",
            "batch_normalization_37 (Batc (None, 18, 18, 16)        64        \n",
            "_________________________________________________________________\n",
            "dropout_21 (Dropout)         (None, 18, 18, 16)        0         \n",
            "_________________________________________________________________\n",
            "max_pooling2d_8 (MaxPooling2 (None, 9, 9, 16)          0         \n",
            "_________________________________________________________________\n",
            "conv2d_55 (Conv2D)           (None, 7, 7, 10)          1450      \n",
            "_________________________________________________________________\n",
            "conv2d_56 (Conv2D)           (None, 1, 1, 10)          4910      \n",
            "_________________________________________________________________\n",
            "batch_normalization_38 (Batc (None, 1, 1, 10)          40        \n",
            "_________________________________________________________________\n",
            "dropout_22 (Dropout)         (None, 1, 1, 10)          0         \n",
            "_________________________________________________________________\n",
            "flatten_7 (Flatten)          (None, 10)                0         \n",
            "_________________________________________________________________\n",
            "activation_7 (Activation)    (None, 10)                0         \n",
            "=================================================================\n",
            "Total params: 18,624\n",
            "Trainable params: 18,444\n",
            "Non-trainable params: 180\n",
            "_________________________________________________________________\n"
          ],
          "name": "stdout"
        }
      ]
    },
    {
      "cell_type": "markdown",
      "metadata": {
        "id": "vUq_hsMT_4m_",
        "colab_type": "text"
      },
      "source": [
        "Model summary lists out the difference layer details and trainable parameters of 18K."
      ]
    },
    {
      "cell_type": "code",
      "metadata": {
        "id": "Zp6SuGrL9M3h",
        "colab_type": "code",
        "colab": {}
      },
      "source": [
        "model.compile(loss='categorical_crossentropy',\n",
        "             optimizer='adam',\n",
        "             metrics=['accuracy'])"
      ],
      "execution_count": 0,
      "outputs": []
    },
    {
      "cell_type": "markdown",
      "metadata": {
        "id": "bT8eVV304e4H",
        "colab_type": "text"
      },
      "source": [
        "Categorical crossentropy was used for loss, adam as optimizer and accuracy as tracking metric."
      ]
    },
    {
      "cell_type": "code",
      "metadata": {
        "id": "4xWoKhPY9Of5",
        "colab_type": "code",
        "outputId": "f4fc0fb8-957f-4293-bad3-91393dfa5841",
        "colab": {
          "base_uri": "https://localhost:8080/",
          "height": 1886
        }
      },
      "source": [
        "model.fit(X_train, Y_train, batch_size=32, nb_epoch=50, verbose=1, validation_data=(X_test, Y_test))\n",
        "#model.fit_generator(datagen.flow(X_train, Y_train, batch_size=32), steps_per_epoch=len(X_train)/32, nb_epoch=60, verbose=1)\n"
      ],
      "execution_count": 60,
      "outputs": [
        {
          "output_type": "stream",
          "text": [
            "Train on 60000 samples, validate on 10000 samples\n",
            "Epoch 1/50\n",
            "  480/60000 [..............................] - ETA: 21s - loss: 0.3872 - acc: 0.8042"
          ],
          "name": "stdout"
        },
        {
          "output_type": "stream",
          "text": [
            "/usr/local/lib/python3.6/dist-packages/ipykernel_launcher.py:1: UserWarning: The `nb_epoch` argument in `fit` has been renamed `epochs`.\n",
            "  \"\"\"Entry point for launching an IPython kernel.\n"
          ],
          "name": "stderr"
        },
        {
          "output_type": "stream",
          "text": [
            "60000/60000 [==============================] - 18s 298us/step - loss: 0.4088 - acc: 0.7906 - val_loss: 0.0246 - val_acc: 0.9929\n",
            "Epoch 2/50\n",
            "60000/60000 [==============================] - 18s 295us/step - loss: 0.4077 - acc: 0.7937 - val_loss: 0.0237 - val_acc: 0.9936\n",
            "Epoch 3/50\n",
            "60000/60000 [==============================] - 18s 297us/step - loss: 0.4059 - acc: 0.7925 - val_loss: 0.0228 - val_acc: 0.9926\n",
            "Epoch 4/50\n",
            "60000/60000 [==============================] - 19s 317us/step - loss: 0.4117 - acc: 0.7912 - val_loss: 0.0226 - val_acc: 0.9929\n",
            "Epoch 5/50\n",
            "60000/60000 [==============================] - 19s 313us/step - loss: 0.4158 - acc: 0.7870 - val_loss: 0.0223 - val_acc: 0.9938\n",
            "Epoch 6/50\n",
            "60000/60000 [==============================] - 18s 308us/step - loss: 0.4108 - acc: 0.7900 - val_loss: 0.0236 - val_acc: 0.9932\n",
            "Epoch 7/50\n",
            "60000/60000 [==============================] - 18s 296us/step - loss: 0.4108 - acc: 0.7911 - val_loss: 0.0228 - val_acc: 0.9936\n",
            "Epoch 8/50\n",
            "60000/60000 [==============================] - 19s 313us/step - loss: 0.4129 - acc: 0.7900 - val_loss: 0.0226 - val_acc: 0.9941\n",
            "Epoch 9/50\n",
            "60000/60000 [==============================] - 18s 302us/step - loss: 0.4102 - acc: 0.7919 - val_loss: 0.0216 - val_acc: 0.9938\n",
            "Epoch 10/50\n",
            "60000/60000 [==============================] - 18s 296us/step - loss: 0.4125 - acc: 0.7897 - val_loss: 0.0234 - val_acc: 0.9939\n",
            "Epoch 11/50\n",
            "60000/60000 [==============================] - 18s 295us/step - loss: 0.4084 - acc: 0.7920 - val_loss: 0.0231 - val_acc: 0.9937\n",
            "Epoch 12/50\n",
            "60000/60000 [==============================] - 18s 296us/step - loss: 0.4039 - acc: 0.7930 - val_loss: 0.0248 - val_acc: 0.9930\n",
            "Epoch 13/50\n",
            "60000/60000 [==============================] - 19s 320us/step - loss: 0.4099 - acc: 0.7898 - val_loss: 0.0255 - val_acc: 0.9934\n",
            "Epoch 14/50\n",
            "60000/60000 [==============================] - 19s 309us/step - loss: 0.4075 - acc: 0.7913 - val_loss: 0.0247 - val_acc: 0.9924\n",
            "Epoch 15/50\n",
            "60000/60000 [==============================] - 18s 295us/step - loss: 0.4034 - acc: 0.7938 - val_loss: 0.0250 - val_acc: 0.9929\n",
            "Epoch 16/50\n",
            "60000/60000 [==============================] - 18s 294us/step - loss: 0.4058 - acc: 0.7940 - val_loss: 0.0226 - val_acc: 0.9932\n",
            "Epoch 17/50\n",
            "60000/60000 [==============================] - 19s 316us/step - loss: 0.4090 - acc: 0.7916 - val_loss: 0.0251 - val_acc: 0.9928\n",
            "Epoch 18/50\n",
            "60000/60000 [==============================] - 18s 297us/step - loss: 0.4107 - acc: 0.7901 - val_loss: 0.0238 - val_acc: 0.9932\n",
            "Epoch 19/50\n",
            "60000/60000 [==============================] - 18s 294us/step - loss: 0.4029 - acc: 0.7941 - val_loss: 0.0230 - val_acc: 0.9936\n",
            "Epoch 20/50\n",
            "60000/60000 [==============================] - 18s 297us/step - loss: 0.4117 - acc: 0.7887 - val_loss: 0.0217 - val_acc: 0.9942\n",
            "Epoch 21/50\n",
            "60000/60000 [==============================] - 18s 294us/step - loss: 0.4059 - acc: 0.7916 - val_loss: 0.0227 - val_acc: 0.9939\n",
            "Epoch 22/50\n",
            "60000/60000 [==============================] - 20s 331us/step - loss: 0.4072 - acc: 0.7914 - val_loss: 0.0235 - val_acc: 0.9935\n",
            "Epoch 23/50\n",
            "60000/60000 [==============================] - 19s 310us/step - loss: 0.4070 - acc: 0.7937 - val_loss: 0.0237 - val_acc: 0.9930\n",
            "Epoch 24/50\n",
            "60000/60000 [==============================] - 18s 295us/step - loss: 0.4097 - acc: 0.7899 - val_loss: 0.0222 - val_acc: 0.9934\n",
            "Epoch 25/50\n",
            "60000/60000 [==============================] - 18s 296us/step - loss: 0.4099 - acc: 0.7892 - val_loss: 0.0216 - val_acc: 0.9939\n",
            "Epoch 26/50\n",
            "60000/60000 [==============================] - 19s 318us/step - loss: 0.4069 - acc: 0.7917 - val_loss: 0.0225 - val_acc: 0.9934\n",
            "Epoch 27/50\n",
            "60000/60000 [==============================] - 18s 296us/step - loss: 0.4069 - acc: 0.7917 - val_loss: 0.0238 - val_acc: 0.9929\n",
            "Epoch 28/50\n",
            "60000/60000 [==============================] - 18s 295us/step - loss: 0.4087 - acc: 0.7901 - val_loss: 0.0211 - val_acc: 0.9938\n",
            "Epoch 29/50\n",
            "60000/60000 [==============================] - 18s 296us/step - loss: 0.4065 - acc: 0.7910 - val_loss: 0.0241 - val_acc: 0.9930\n",
            "Epoch 30/50\n",
            "60000/60000 [==============================] - 18s 305us/step - loss: 0.4032 - acc: 0.7918 - val_loss: 0.0246 - val_acc: 0.9932\n",
            "Epoch 31/50\n",
            "60000/60000 [==============================] - 19s 311us/step - loss: 0.4033 - acc: 0.7917 - val_loss: 0.0248 - val_acc: 0.9928\n",
            "Epoch 32/50\n",
            "60000/60000 [==============================] - 18s 297us/step - loss: 0.4058 - acc: 0.7902 - val_loss: 0.0228 - val_acc: 0.9933\n",
            "Epoch 33/50\n",
            "60000/60000 [==============================] - 18s 295us/step - loss: 0.4035 - acc: 0.7928 - val_loss: 0.0238 - val_acc: 0.9934\n",
            "Epoch 34/50\n",
            "60000/60000 [==============================] - 18s 295us/step - loss: 0.4045 - acc: 0.7936 - val_loss: 0.0264 - val_acc: 0.9922\n",
            "Epoch 35/50\n",
            "60000/60000 [==============================] - 19s 318us/step - loss: 0.4066 - acc: 0.7909 - val_loss: 0.0209 - val_acc: 0.9943\n",
            "Epoch 36/50\n",
            "60000/60000 [==============================] - 18s 296us/step - loss: 0.4052 - acc: 0.7915 - val_loss: 0.0223 - val_acc: 0.9936\n",
            "Epoch 37/50\n",
            "60000/60000 [==============================] - 18s 295us/step - loss: 0.4041 - acc: 0.7926 - val_loss: 0.0237 - val_acc: 0.9928\n",
            "Epoch 38/50\n",
            "60000/60000 [==============================] - 18s 296us/step - loss: 0.4088 - acc: 0.7919 - val_loss: 0.0257 - val_acc: 0.9929\n",
            "Epoch 39/50\n",
            "60000/60000 [==============================] - 19s 309us/step - loss: 0.4086 - acc: 0.7909 - val_loss: 0.0241 - val_acc: 0.9936\n",
            "Epoch 40/50\n",
            "60000/60000 [==============================] - 19s 321us/step - loss: 0.4022 - acc: 0.7909 - val_loss: 0.0229 - val_acc: 0.9935\n",
            "Epoch 41/50\n",
            "60000/60000 [==============================] - 18s 297us/step - loss: 0.4036 - acc: 0.7925 - val_loss: 0.0218 - val_acc: 0.9944\n",
            "Epoch 42/50\n",
            "60000/60000 [==============================] - 18s 295us/step - loss: 0.4077 - acc: 0.7910 - val_loss: 0.0262 - val_acc: 0.9931\n",
            "Epoch 43/50\n",
            "60000/60000 [==============================] - 18s 296us/step - loss: 0.4041 - acc: 0.7934 - val_loss: 0.0227 - val_acc: 0.9934\n",
            "Epoch 44/50\n",
            "60000/60000 [==============================] - 19s 318us/step - loss: 0.4062 - acc: 0.7911 - val_loss: 0.0266 - val_acc: 0.9923\n",
            "Epoch 45/50\n",
            "60000/60000 [==============================] - 18s 297us/step - loss: 0.4093 - acc: 0.7905 - val_loss: 0.0237 - val_acc: 0.9936\n",
            "Epoch 46/50\n",
            "60000/60000 [==============================] - 18s 298us/step - loss: 0.4048 - acc: 0.7918 - val_loss: 0.0223 - val_acc: 0.9931\n",
            "Epoch 47/50\n",
            "60000/60000 [==============================] - 19s 309us/step - loss: 0.4043 - acc: 0.7925 - val_loss: 0.0236 - val_acc: 0.9931\n",
            "Epoch 48/50\n",
            "60000/60000 [==============================] - 19s 318us/step - loss: 0.4093 - acc: 0.7889 - val_loss: 0.0228 - val_acc: 0.9932\n",
            "Epoch 49/50\n",
            "60000/60000 [==============================] - 18s 297us/step - loss: 0.4059 - acc: 0.7907 - val_loss: 0.0237 - val_acc: 0.9933\n",
            "Epoch 50/50\n",
            "60000/60000 [==============================] - 18s 296us/step - loss: 0.4021 - acc: 0.7919 - val_loss: 0.0222 - val_acc: 0.9934\n"
          ],
          "name": "stdout"
        },
        {
          "output_type": "execute_result",
          "data": {
            "text/plain": [
              "<keras.callbacks.History at 0x7f9082bb54a8>"
            ]
          },
          "metadata": {
            "tags": []
          },
          "execution_count": 60
        }
      ]
    },
    {
      "cell_type": "markdown",
      "metadata": {
        "id": "o09ANWz-AOCl",
        "colab_type": "text"
      },
      "source": [
        "Image augumentation did not improve accuracy much. Hence was discarded.  \n",
        "Model is run on X_train with 60 epochs, 32 images in a batch, along with validation on X_test"
      ]
    },
    {
      "cell_type": "code",
      "metadata": {
        "id": "AtsH-lLk-eLb",
        "colab_type": "code",
        "colab": {}
      },
      "source": [
        "score = model.evaluate(X_test, Y_test, verbose=0)"
      ],
      "execution_count": 0,
      "outputs": []
    },
    {
      "cell_type": "markdown",
      "metadata": {
        "id": "j20D9XXvAwFh",
        "colab_type": "text"
      },
      "source": [
        "Model is evaluated on X_test data again."
      ]
    },
    {
      "cell_type": "code",
      "metadata": {
        "id": "mkX8JMv79q9r",
        "colab_type": "code",
        "outputId": "324f2434-a4cd-46f4-fd0a-89ecb6f7f4b0",
        "colab": {
          "base_uri": "https://localhost:8080/",
          "height": 35
        }
      },
      "source": [
        "print(score)"
      ],
      "execution_count": 62,
      "outputs": [
        {
          "output_type": "stream",
          "text": [
            "[0.022248819211730733, 0.9934]\n"
          ],
          "name": "stdout"
        }
      ]
    },
    {
      "cell_type": "markdown",
      "metadata": {
        "id": "WiUW2fC3A6gz",
        "colab_type": "text"
      },
      "source": [
        "Accuracy score is printed. 99.32% is achieved, one of epoch achieved 99.4% though."
      ]
    },
    {
      "cell_type": "code",
      "metadata": {
        "id": "OCWoJkwE9suh",
        "colab_type": "code",
        "colab": {}
      },
      "source": [
        "y_pred = model.predict(X_test)"
      ],
      "execution_count": 0,
      "outputs": []
    },
    {
      "cell_type": "markdown",
      "metadata": {
        "id": "vimHHDxfBe6P",
        "colab_type": "text"
      },
      "source": [
        "model is predicted on X_test data and assigned to y_pred"
      ]
    },
    {
      "cell_type": "code",
      "metadata": {
        "id": "Ym7iCFBm9uBs",
        "colab_type": "code",
        "outputId": "412af5fd-5f88-4109-a3a6-0e9558b15e82",
        "colab": {
          "base_uri": "https://localhost:8080/",
          "height": 355
        }
      },
      "source": [
        "print(y_pred[:9])\n",
        "print(y_test[:9])"
      ],
      "execution_count": 64,
      "outputs": [
        {
          "output_type": "stream",
          "text": [
            "[[1.6129716e-06 1.3426575e-05 2.7557805e-06 6.3281273e-06 6.7069232e-06\n",
            "  9.8587925e-06 2.7276806e-06 9.9991846e-01 3.5047284e-05 3.0790311e-06]\n",
            " [1.0271739e-05 3.9734887e-06 9.9978572e-01 8.7304652e-06 1.9308192e-05\n",
            "  1.9095428e-10 3.0665717e-05 2.5754603e-05 9.7181237e-06 1.0589994e-04]\n",
            " [1.9586560e-05 9.9972039e-01 7.2752391e-06 1.5777043e-05 2.8043769e-05\n",
            "  8.8689150e-05 3.6335091e-06 2.3646524e-05 5.3262105e-05 3.9782513e-05]\n",
            " [9.9993837e-01 1.4601968e-05 9.4847019e-07 1.0436790e-05 1.8226830e-06\n",
            "  2.8795321e-06 2.8878510e-06 1.6658796e-06 9.8744968e-06 1.6504089e-05]\n",
            " [3.6697860e-09 1.2719090e-04 3.4597768e-05 1.5273738e-10 9.9810350e-01\n",
            "  1.1808290e-03 5.9710632e-09 6.2121580e-05 7.1371233e-09 4.9171876e-04]\n",
            " [3.0051131e-05 9.9947923e-01 1.6694770e-05 1.0465269e-05 8.9361296e-05\n",
            "  5.9624163e-05 7.0066981e-06 1.1837997e-04 9.1109287e-05 9.8066630e-05]\n",
            " [8.3227597e-08 6.0682098e-04 2.4201772e-04 3.4334789e-08 9.9714154e-01\n",
            "  1.2770678e-03 1.9471955e-07 3.2686154e-04 1.9688762e-04 2.0849549e-04]\n",
            " [3.3501476e-12 9.4050829e-06 1.8853087e-04 4.6483623e-07 5.8456475e-04\n",
            "  7.2770098e-07 4.1035928e-11 7.0724068e-06 6.6755847e-06 9.9920255e-01]\n",
            " [3.6186923e-03 3.6150825e-05 3.0055438e-07 1.0400858e-05 8.1699152e-05\n",
            "  9.0375483e-02 8.9884251e-01 3.1684422e-06 7.0315162e-03 2.1925400e-08]]\n",
            "[7 2 1 0 4 1 4 9 5]\n"
          ],
          "name": "stdout"
        }
      ]
    },
    {
      "cell_type": "markdown",
      "metadata": {
        "id": "e-Ay87RKBYoZ",
        "colab_type": "text"
      },
      "source": [
        "last 9 values of prediction is printed."
      ]
    },
    {
      "cell_type": "code",
      "metadata": {
        "id": "CT--y98_dr2T",
        "colab_type": "code",
        "colab": {}
      },
      "source": [
        "layer_dict = dict([(layer.name, layer) for layer in model.layers])"
      ],
      "execution_count": 0,
      "outputs": []
    },
    {
      "cell_type": "code",
      "metadata": {
        "id": "2GY4Upv4dsUR",
        "colab_type": "code",
        "outputId": "23e1ce42-25fa-49c1-b193-77dbda20cecf",
        "colab": {
          "base_uri": "https://localhost:8080/",
          "height": 837
        }
      },
      "source": [
        "import numpy as np\n",
        "from matplotlib import pyplot as plt\n",
        "from keras import backend as K\n",
        "%matplotlib inline\n",
        "# util function to convert a tensor into a valid image\n",
        "def deprocess_image(x):\n",
        "    # normalize tensor: center on 0., ensure std is 0.1\n",
        "    x -= x.mean()\n",
        "    x /= (x.std() + 1e-5)\n",
        "    x *= 0.1\n",
        "\n",
        "    # clip to [0, 1]\n",
        "    x += 0.5\n",
        "    x = np.clip(x, 0, 1)\n",
        "\n",
        "    # convert to RGB array\n",
        "    x *= 255\n",
        "    #x = x.transpose((1, 2, 0))\n",
        "    x = np.clip(x, 0, 255).astype('uint8')\n",
        "    return x\n",
        "\n",
        "def vis_img_in_filter(img = np.array(X_train[2]).reshape((1, 28, 28, 1)).astype(np.float64), \n",
        "                      layer_name = 'conv2d_50'):\n",
        "    layer_output = layer_dict[layer_name].output\n",
        "    img_ascs = list()\n",
        "    for filter_index in range(layer_output.shape[3]):\n",
        "        # build a loss function that maximizes the activation\n",
        "        # of the nth filter of the layer considered\n",
        "        loss = K.mean(layer_output[:, :, :, filter_index])\n",
        "\n",
        "        # compute the gradient of the input picture wrt this loss\n",
        "        grads = K.gradients(loss, model.input)[0]\n",
        "\n",
        "        # normalization trick: we normalize the gradient\n",
        "        grads /= (K.sqrt(K.mean(K.square(grads))) + 1e-5)\n",
        "\n",
        "        # this function returns the loss and grads given the input picture\n",
        "        iterate = K.function([model.input], [loss, grads])\n",
        "\n",
        "        # step size for gradient ascent\n",
        "        step = 5.\n",
        "\n",
        "        img_asc = np.array(img)\n",
        "        # run gradient ascent for 20 steps\n",
        "        for i in range(20):\n",
        "            loss_value, grads_value = iterate([img_asc])\n",
        "            img_asc += grads_value * step\n",
        "\n",
        "        img_asc = img_asc[0]\n",
        "        img_ascs.append(deprocess_image(img_asc).reshape((28, 28)))\n",
        "        \n",
        "    if layer_output.shape[3] >= 35:\n",
        "        plot_x, plot_y = 6, 6\n",
        "    elif layer_output.shape[3] >= 23:\n",
        "        plot_x, plot_y = 4, 6\n",
        "    elif layer_output.shape[3] >= 11:\n",
        "        plot_x, plot_y = 2, 6\n",
        "    else:\n",
        "        plot_x, plot_y = 1, 2\n",
        "    fig, ax = plt.subplots(plot_x, plot_y, figsize = (12, 12))\n",
        "    ax[0, 0].imshow(img.reshape((28, 28)), cmap = 'gray')\n",
        "    ax[0, 0].set_title('Input image')\n",
        "    fig.suptitle('Input image and %s filters' % (layer_name,))\n",
        "    fig.tight_layout(pad = 0.3, rect = [0, 0, 0.9, 0.9])\n",
        "    for (x, y) in [(i, j) for i in range(plot_x) for j in range(plot_y)]:\n",
        "        if x == 0 and y == 0:\n",
        "            continue\n",
        "        ax[x, y].imshow(img_ascs[x * plot_y + y - 1], cmap = 'gray')\n",
        "        ax[x, y].set_title('filter %d' % (x * plot_y + y - 1))\n",
        "\n",
        "vis_img_in_filter()"
      ],
      "execution_count": 66,
      "outputs": [
        {
          "output_type": "display_data",
          "data": {
            "image/png": "[encoded data removed]",
            "text/plain": [
              "<Figure size 864x864 with 24 Axes>"
            ]
          },
          "metadata": {
            "tags": []
          }
        }
      ]
    },
    {
      "cell_type": "code",
      "metadata": {
        "id": "9tvptcn8dxvp",
        "colab_type": "code",
        "colab": {}
      },
      "source": [
        ""
      ],
      "execution_count": 0,
      "outputs": []
    },
    {
      "cell_type": "markdown",
      "metadata": {
        "id": "GbEblzccBV6U",
        "colab_type": "text"
      },
      "source": [
        "Above code captures the kernel extract of various layers and plots them."
      ]
    }
  ]
}